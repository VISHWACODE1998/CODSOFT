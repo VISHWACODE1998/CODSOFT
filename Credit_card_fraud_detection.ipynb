import streamlit as st
import pandas as pd
import seaborn as sns
import matplotlib.pyplot as plt
from sklearn.linear_model import LogisticRegression
from sklearn.ensemble import RandomForestClassifier
from sklearn.svm import SVC
from sklearn.neighbors import KNeighborsClassifier
from sklearn.model_selection import train_test_split
from sklearn.preprocessing import StandardScaler
from sklearn.metrics import classification_report, confusion_matrix, accuracy_score, roc_curve, auc
from imblearn.over_sampling import SMOTE

# Load your dataset
@st.cache_data
def load_data():
    return pd.read_csv("creditcard.csv")

# Main app
def main():
    st.sidebar.title("Credit Card Fraud Detection")
    st.sidebar.write("Choose model and settings")

    # Model selection
    model_choice = st.sidebar.selectbox(
        "Select a model to train",
        ['Logistic Regression', 'Random Forest', 'Support Vector Machine', 'K-Nearest Neighbors']
    )

    # Load dataset
    data = load_data()

    # Tabs
    st.title("Credit Card Fraud Detection System")
    tab1, tab2, tab3 = st.tabs(["Data Overview", "Model Training", "Custom Prediction"])

    # Tab 1: Data Overview
    with tab1:
        st.header("Data Overview")
        st.write(data.head())
        st.write("Shape of Dataset: ", data.shape)
        st.write("Null Values: ", data.isnull().sum())

        # Correlation heatmap
        st.write("Correlation Heatmap")
        fig, ax = plt.subplots(figsize=(10, 6))
        sns.heatmap(data.corr(), cmap='coolwarm', ax=ax)
        st.pyplot(fig)

    # Preprocessing
    data['normAmount'] = StandardScaler().fit_transform(data['Amount'].values.reshape(-1, 1))
    data = data.drop(['Time', 'Amount'], axis=1)
    X = data.drop('Class', axis=1)
    y = data['Class']

    sm = SMOTE(random_state=42)
    X_res, y_res = sm.fit_resample(X, y)
    X_train, X_test, y_train, y_test = train_test_split(X_res, y_res, test_size=0.2, random_state=42)

    # Tab 2: Model Training
    with tab2:
        st.header("Train the Model")
        models = {
            'Logistic Regression': LogisticRegression(max_iter=1000),
            'Random Forest': RandomForestClassifier(),
            'Support Vector Machine': SVC(probability=True),
            'K-Nearest Neighbors': KNeighborsClassifier()
        }

        if st.button("Train Model"):
            model = models[model_choice]
            model.fit(X_train, y_train)
            y_pred = model.predict(X_test)
            st.write(f"Accuracy: {accuracy_score(y_test, y_pred) * 100:.2f}%")
            st.write("Confusion Matrix:")
            st.write(confusion_matrix(y_test, y_pred))

    # Tab 3: Custom Prediction
    with tab3:
        st.header("Custom Prediction")
        input_data = {col: st.number_input(f"Enter value for {col}", value=0.0) for col in X.columns}
        input_df = pd.DataFrame([input_data])

        if st.button("Predict"):
            st.write("Train a model first before predicting.")

# Run the app
if __name__ == '__main__':
    main()
